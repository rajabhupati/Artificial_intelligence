{
  "nbformat": 4,
  "nbformat_minor": 0,
  "metadata": {
    "colab": {
      "name": "Untitled31.ipynb",
      "provenance": [],
      "collapsed_sections": []
    },
    "kernelspec": {
      "name": "python3",
      "display_name": "Python 3"
    }
  },
  "cells": [
    {
      "cell_type": "markdown",
      "metadata": {
        "id": "rvQK3B9oDYe7",
        "colab_type": "text"
      },
      "source": [
        "# **Multi Feature Extraction - A Skeleton Structure for Image classification**"
      ]
    },
    {
      "cell_type": "markdown",
      "metadata": {
        "id": "d0fMAcIMDfwm",
        "colab_type": "text"
      },
      "source": [
        "# Traffic Sign Board Detection"
      ]
    },
    {
      "cell_type": "code",
      "metadata": {
        "id": "KxBaoZZVDkdj",
        "colab_type": "code",
        "colab": {}
      },
      "source": [
        "!git clone https://github.com/deepanrajm/machine_learning.git"
      ],
      "execution_count": 0,
      "outputs": []
    },
    {
      "cell_type": "code",
      "metadata": {
        "id": "xeI1KzqOD3Yo",
        "colab_type": "code",
        "colab": {}
      },
      "source": [
        "!pip install mahotas"
      ],
      "execution_count": 0,
      "outputs": []
    },
    {
      "cell_type": "code",
      "metadata": {
        "id": "k28ZhhJwDTUs",
        "colab_type": "code",
        "colab": {}
      },
      "source": [
        "from __future__ import print_function\n",
        "from sklearn.model_selection import train_test_split\n",
        "from sklearn.metrics import classification_report\n",
        "from sklearn.ensemble import RandomForestClassifier\n",
        "from sklearn.tree import DecisionTreeClassifier\n",
        "from imutils import paths\n",
        "import numpy as np\n",
        "import argparse\n",
        "import mahotas\n",
        "import cv2\n",
        "import pickle as cPickle\n",
        "from google.colab.patches import cv2_imshow"
      ],
      "execution_count": 0,
      "outputs": []
    },
    {
      "cell_type": "markdown",
      "metadata": {
        "id": "x90eYNB10Jhu",
        "colab_type": "text"
      },
      "source": [
        "**Color Channel Statistics**"
      ]
    },
    {
      "cell_type": "markdown",
      "metadata": {
        "id": "f22Mb5G50Lys",
        "colab_type": "text"
      },
      "source": [
        "![alt text](https://drive.google.com/uc?id=1nkINLbFb4RISenHO7AVmCXQ_ir-jBvIx)"
      ]
    },
    {
      "cell_type": "code",
      "metadata": {
        "id": "MMLY95jfDpJm",
        "colab_type": "code",
        "colab": {}
      },
      "source": [
        "def describe(image):\n",
        "\t# extract the mean and standard deviation from each channel of the image\n",
        "\t# in the HSV color space\n",
        "\timage = cv2.resize(image,(500,500))\n",
        "\t(means, stds) = cv2.meanStdDev(cv2.cvtColor(image, cv2.COLOR_BGR2HSV))\n",
        "\tcolorStats = np.concatenate([means, stds]).flatten()\n",
        "\n",
        "\t# extract Haralick texture features\n",
        "\tgray = cv2.cvtColor(image, cv2.COLOR_BGR2GRAY)\n",
        "\tharalick = mahotas.features.haralick(gray).mean(axis=0)\n",
        "\n",
        "\t# return a concatenated feature vector of color statistics and Haralick\n",
        "\t# texture features\n",
        "\treturn np.hstack([colorStats, haralick])"
      ],
      "execution_count": 0,
      "outputs": []
    },
    {
      "cell_type": "code",
      "metadata": {
        "id": "KmylERDnD6ZZ",
        "colab_type": "code",
        "colab": {}
      },
      "source": [
        "imagePaths = sorted(paths.list_images(\"machine_learning/Machine_learning/5_Sign_board_skeleton/Train\"))\n",
        "data = []\n",
        "labels = []"
      ],
      "execution_count": 0,
      "outputs": []
    },
    {
      "cell_type": "code",
      "metadata": {
        "id": "id3lYmv2D_y7",
        "colab_type": "code",
        "colab": {}
      },
      "source": [
        "for imagePath in imagePaths:\n",
        "\t# extract the label and load the image from disk\n",
        "\tlabel = imagePath.split(\"/\")[-2]\n",
        "\timage = cv2.imread(imagePath)\n",
        "\tprint (label)\n",
        "\n",
        "\t# extract features from the image, then update the list of lables and\n",
        "\t# features\n",
        "\tfeatures = describe(image)\n",
        "\tprint (features)\n",
        "\tlabels.append(label)\n",
        "\tdata.append(features)"
      ],
      "execution_count": 0,
      "outputs": []
    },
    {
      "cell_type": "code",
      "metadata": {
        "id": "SOsPGbAjEDOu",
        "colab_type": "code",
        "colab": {}
      },
      "source": [
        "(trainData, testData, trainLabels, testLabels) = train_test_split(np.array(data),\n",
        "\tnp.array(labels), test_size=0.25, random_state=42)"
      ],
      "execution_count": 0,
      "outputs": []
    },
    {
      "cell_type": "code",
      "metadata": {
        "id": "lvzLhMC8EFSx",
        "colab_type": "code",
        "colab": {}
      },
      "source": [
        "model = RandomForestClassifier(n_estimators=20, random_state=42)"
      ],
      "execution_count": 0,
      "outputs": []
    },
    {
      "cell_type": "code",
      "metadata": {
        "id": "Vui2y7b6EITd",
        "colab_type": "code",
        "colab": {}
      },
      "source": [
        "print(\"[INFO] training model...\")\n",
        "model.fit(trainData, trainLabels)\n",
        "\n",
        "# evaluate the classifier\n",
        "print(\"[INFO] evaluating...\")\n",
        "predictions = model.predict(testData)\n",
        "print(classification_report(testLabels, predictions))"
      ],
      "execution_count": 0,
      "outputs": []
    },
    {
      "cell_type": "code",
      "metadata": {
        "id": "e5_3ZY54EJzB",
        "colab_type": "code",
        "colab": {}
      },
      "source": [
        "f = open(\"classifier.cPickle\", \"wb\")\n",
        "f.write(cPickle.dumps(model))\n",
        "f.close()"
      ],
      "execution_count": 0,
      "outputs": []
    }
  ]
}
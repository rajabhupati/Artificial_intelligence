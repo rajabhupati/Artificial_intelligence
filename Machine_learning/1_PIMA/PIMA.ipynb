{
  "nbformat": 4,
  "nbformat_minor": 0,
  "metadata": {
    "colab": {
      "name": "Untitled28.ipynb",
      "provenance": [],
      "collapsed_sections": []
    },
    "kernelspec": {
      "name": "python3",
      "display_name": "Python 3"
    }
  },
  "cells": [
    {
      "cell_type": "markdown",
      "metadata": {
        "id": "wsawMfdOfaeh",
        "colab_type": "text"
      },
      "source": [
        "# **Machine Learning**"
      ]
    },
    {
      "cell_type": "markdown",
      "metadata": {
        "id": "wEt91vHDfmpU",
        "colab_type": "text"
      },
      "source": [
        "# **Pima Indians Diabetes**"
      ]
    },
    {
      "cell_type": "markdown",
      "metadata": {
        "id": "SQcSA_Bp8PGt",
        "colab_type": "text"
      },
      "source": [
        "PregnanciesNumber of times pregnant\n",
        "\n",
        "GlucosePlasma glucose concentration a 2 hours in an oral glucose tolerance test\n",
        "\n",
        "BloodPressureDiastolic blood pressure (mm Hg)\n",
        "\n",
        "SkinThicknessTriceps skin fold thickness (mm)\n",
        "\n",
        "Insulin2-Hour serum insulin (mu U/ml)\n",
        "\n",
        "BMIBody mass index (weight in kg/(height in m)^2)\n",
        "\n",
        "DiabetesPedigreeFunctionDiabetes pedigree function\n",
        "\n",
        "AgeAge (years)\n",
        "\n",
        "OutcomeClass variable (0 or 1) 268 of 768 are 1, the others are 0"
      ]
    },
    {
      "cell_type": "code",
      "metadata": {
        "id": "9thnW8_BfWqG",
        "colab_type": "code",
        "colab": {}
      },
      "source": [
        "!git clone https://github.com/deepanrajm/machine_learning.git"
      ],
      "execution_count": 0,
      "outputs": []
    },
    {
      "cell_type": "code",
      "metadata": {
        "id": "MfWilZ7H8cpE",
        "colab_type": "code",
        "colab": {}
      },
      "source": [
        "import numpy as np\n",
        "import sklearn\n",
        "from sklearn.metrics import classification_report\n",
        "from sklearn.ensemble import RandomForestClassifier\n",
        "from sklearn.tree import DecisionTreeClassifier\n",
        "from sklearn.neighbors import KNeighborsClassifier\n",
        "from sklearn.svm import SVC\n",
        "from sklearn.linear_model import LogisticRegression\n",
        "\n",
        "\n",
        "if int((sklearn.__version__).split(\".\")[1]) < 18:\n",
        "\tfrom sklearn.cross_validation import train_test_split\n",
        "\n",
        "else:\n",
        "\tfrom sklearn.model_selection import train_test_split"
      ],
      "execution_count": 0,
      "outputs": []
    },
    {
      "cell_type": "code",
      "metadata": {
        "id": "9Ens470-8ge2",
        "colab_type": "code",
        "colab": {}
      },
      "source": [
        "dataset = np.loadtxt(\"machine_learning/Machine_learning/1_PIMA/pima-indians-diabetes.csv\", delimiter=\",\")\n",
        "\n",
        "data = dataset[:,0:8]\n",
        "labels = dataset[:,8]"
      ],
      "execution_count": 0,
      "outputs": []
    },
    {
      "cell_type": "code",
      "metadata": {
        "id": "nOWrnXLX8mc_",
        "colab_type": "code",
        "colab": {}
      },
      "source": [
        "(trainData, testData, trainLabels, testLabels) = train_test_split(np.array(data),\n",
        "\tnp.array(labels), test_size=0.25, random_state=42)"
      ],
      "execution_count": 0,
      "outputs": []
    },
    {
      "cell_type": "markdown",
      "metadata": {
        "id": "1OE3Aqpw87ts",
        "colab_type": "text"
      },
      "source": [
        "# **Decision Trees**"
      ]
    },
    {
      "cell_type": "markdown",
      "metadata": {
        "id": "5ZFCXtOXkgqV",
        "colab_type": "text"
      },
      "source": [
        "![alt text](https://drive.google.com/uc?id=1x5droBZwH8RB4nqE77owjcb3m_aOBgvU)\n"
      ]
    },
    {
      "cell_type": "markdown",
      "metadata": {
        "id": "1VaRT6hPpPG5",
        "colab_type": "text"
      },
      "source": [
        "**splitter{“best”, “random”}, default=”best”**\n",
        "\n",
        "The strategy used to choose the split at each node. Supported strategies are “best” to choose the best split and “random” to choose the best random split.\n",
        "\n",
        "**max_featuresint, float or {“auto”, “sqrt”, “log2”}, default=None**\n",
        "\n",
        "The number of features to consider when looking for the best split:\n",
        "\n",
        "If int, then consider max_features features at each split.\n",
        "\n",
        "If float, then max_features is a fraction and int(max_features * n_features) features are considered at each split.\n",
        "\n",
        "If “auto”, then max_features=sqrt(n_features).\n",
        "\n",
        "If “sqrt”, then max_features=sqrt(n_features).\n",
        "\n",
        "If “log2”, then max_features=log2(n_features).\n",
        "\n",
        "If None, then max_features=n_features.\n",
        "\n",
        "*Note: the search for a split does not stop until at least one valid partition of the node samples is found, even if it requires to effectively inspect more than max_features features.*"
      ]
    },
    {
      "cell_type": "code",
      "metadata": {
        "id": "L9eVrLOt85uD",
        "colab_type": "code",
        "colab": {}
      },
      "source": [
        "#splitter = best, random , max_features = int, auto, log, none\n",
        "model = DecisionTreeClassifier(random_state=84,splitter='best', max_features=8)\n",
        "\n",
        "print(\"[INFO] training model...\")\n",
        "model.fit(trainData, trainLabels)\n",
        "\n",
        "\n",
        "print(\"[INFO] evaluating...\")\n",
        "predictions = model.predict(testData)\n",
        "print(classification_report(testLabels, predictions))"
      ],
      "execution_count": 0,
      "outputs": []
    },
    {
      "cell_type": "markdown",
      "metadata": {
        "id": "KMOStwpD9FGs",
        "colab_type": "text"
      },
      "source": [
        "# **Random Forest**"
      ]
    },
    {
      "cell_type": "markdown",
      "metadata": {
        "id": "vM9cX7u2p-Is",
        "colab_type": "text"
      },
      "source": [
        "![alt text](https://drive.google.com/uc?id=1JRk2b-NbpsTbRALKDzIJngfUjOZvj8gk)"
      ]
    },
    {
      "cell_type": "code",
      "metadata": {
        "id": "UKdOjYnG9J-b",
        "colab_type": "code",
        "colab": {}
      },
      "source": [
        "model = RandomForestClassifier(n_estimators=10, random_state=42,max_features=\"auto\")\n",
        "print(\"[INFO] training model...\")\n",
        "model.fit(trainData, trainLabels)\n",
        "\n",
        "\n",
        "print(\"[INFO] evaluating...\")\n",
        "predictions = model.predict(testData)\n",
        "print(classification_report(testLabels, predictions))"
      ],
      "execution_count": 0,
      "outputs": []
    },
    {
      "cell_type": "markdown",
      "metadata": {
        "id": "9tddo9sY9Nn4",
        "colab_type": "text"
      },
      "source": [
        "# **KNN**"
      ]
    },
    {
      "cell_type": "markdown",
      "metadata": {
        "id": "FZhe0Tj4sHYX",
        "colab_type": "text"
      },
      "source": [
        "![alt text](https://drive.google.com/uc?id=12O0KRMCL0aO9wIebmPoAmfQdHgLBs4Gt)"
      ]
    },
    {
      "cell_type": "code",
      "metadata": {
        "id": "Kmi2jHsB9Oo2",
        "colab_type": "code",
        "colab": {}
      },
      "source": [
        "#weights = uniform, weights\n",
        "model = KNeighborsClassifier(n_neighbors=9)\n",
        "print(\"[INFO] training model...\")\n",
        "model.fit(trainData, trainLabels)\n",
        "\n",
        "\n",
        "print(\"[INFO] evaluating...\")\n",
        "predictions = model.predict(testData)\n",
        "print(classification_report(testLabels, predictions))"
      ],
      "execution_count": 0,
      "outputs": []
    },
    {
      "cell_type": "markdown",
      "metadata": {
        "id": "gWi5XPe39RIr",
        "colab_type": "text"
      },
      "source": [
        "# **SVM**"
      ]
    },
    {
      "cell_type": "markdown",
      "metadata": {
        "id": "-U_5BRZGv_DT",
        "colab_type": "text"
      },
      "source": [
        "![alt text](https://drive.google.com/uc?id=1I48gEU3IMSFRriv-Uv2qVXy1bJqIrBaz)"
      ]
    },
    {
      "cell_type": "markdown",
      "metadata": {
        "id": "ydWqVAuTwFxt",
        "colab_type": "text"
      },
      "source": [
        "![alt text](https://drive.google.com/uc?id=1qENQ38k3MwqjAyjc19j-zEvbEIfvYI9Z)"
      ]
    },
    {
      "cell_type": "markdown",
      "metadata": {
        "id": "1Ll2F_6hwzaz",
        "colab_type": "text"
      },
      "source": [
        "**The C parameter** trades off correct classification of training examples against maximization of the decision function’s margin. For larger values of C, a smaller margin will be accepted if the decision function is better at classifying all training points correctly. A lower C will encourage a larger margin, therefore a simpler decision function, at the cost of training accuracy. In other words``C`` behaves as a regularization parameter in the SVM\n",
        "\n",
        "\n",
        "**The gamma parameter** defines how far the influence of a single training example reaches, with low values meaning ‘far’ and high values meaning ‘close’. The gamma parameters can be seen as the inverse of the radius of influence of samples selected by the model as support vectors"
      ]
    },
    {
      "cell_type": "code",
      "metadata": {
        "id": "nF3IdqNn9T0Q",
        "colab_type": "code",
        "colab": {}
      },
      "source": [
        "#kernel='rbf', linear, poly, C=1, gamma='scale'\n",
        "model = SVC(kernel=\"linear\",C=1)\n",
        "print(\"[INFO] training model...\")\n",
        "model.fit(trainData, trainLabels)\n",
        "\n",
        "\n",
        "print(\"[INFO] evaluating...\")\n",
        "predictions = model.predict(testData)\n",
        "print(classification_report(testLabels, predictions))"
      ],
      "execution_count": 0,
      "outputs": []
    },
    {
      "cell_type": "markdown",
      "metadata": {
        "id": "Njb9Sy3N9C2G",
        "colab_type": "text"
      },
      "source": [
        "# **Logistic Regression**"
      ]
    },
    {
      "cell_type": "markdown",
      "metadata": {
        "id": "0HO6v_XqyjSp",
        "colab_type": "text"
      },
      "source": [
        "![alt text](https://drive.google.com/uc?id=1N2HJHTUlzSj6jqD8b61pYbCYo_rhXaYS)"
      ]
    },
    {
      "cell_type": "markdown",
      "metadata": {
        "id": "f-4fRG-2yS0F",
        "colab_type": "text"
      },
      "source": [
        "**solver{‘newton-cg’, ‘lbfgs’, ‘liblinear’, ‘sag’, ‘saga’}, default=’lbfgs’**\n",
        "Algorithm to use in the optimization problem.\n",
        "\n",
        "For small datasets, ‘liblinear’ is a good choice, whereas ‘sag’ and ‘saga’ are faster for large ones.\n",
        "\n",
        "For multiclass problems, only ‘newton-cg’, ‘sag’, ‘saga’ and ‘lbfgs’ handle multinomial loss; ‘liblinear’ is limited to one-versus-rest schemes.\n",
        "\n",
        "‘newton-cg’, ‘lbfgs’, ‘sag’ and ‘saga’ handle L2 or no penalty\n",
        "\n",
        "‘liblinear’ and ‘saga’ also handle L1 penalty\n",
        "\n",
        "‘saga’ also supports ‘elasticnet’ penalty\n",
        "\n",
        "‘liblinear’ does not support setting penalty='none'"
      ]
    },
    {
      "cell_type": "markdown",
      "metadata": {
        "id": "EOsdLirbyM2Y",
        "colab_type": "text"
      },
      "source": [
        "**penalty{‘l1’, ‘l2’, ‘elasticnet’, ‘none’}, default=’l2’**\n",
        "\n",
        "Used to specify the norm used in the penalization. The ‘newton-cg’, ‘sag’ and ‘lbfgs’ solvers support only l2 penalties. ‘elasticnet’ is only supported by the ‘saga’ solver. If ‘none’ (not supported by the liblinear solver), no regularization is applied."
      ]
    },
    {
      "cell_type": "code",
      "metadata": {
        "id": "5JCc9ND1fryj",
        "colab_type": "code",
        "colab": {}
      },
      "source": [
        "#penality = l1,l2, elasticnet\n",
        "#solver = liblinear, sag, saga, lbfgs, newton-cg\n",
        "#max-iter = 100\n",
        "\n",
        "model = LogisticRegression(max_iter=15)#,solver = 'sag')\n",
        "\n",
        "#penalty='l1',solver=\"saga\",max_iter=100\n",
        "\n",
        "print(\"[INFO] training model...\")\n",
        "model.fit(trainData, trainLabels)\n",
        "\n",
        "\n",
        "print(\"[INFO] evaluating...\")\n",
        "predictions = model.predict(testData)\n",
        "print(classification_report(testLabels, predictions))"
      ],
      "execution_count": 0,
      "outputs": []
    }
  ]
}
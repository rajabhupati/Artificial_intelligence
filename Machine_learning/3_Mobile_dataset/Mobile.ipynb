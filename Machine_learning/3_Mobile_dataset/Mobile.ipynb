{
  "nbformat": 4,
  "nbformat_minor": 0,
  "metadata": {
    "colab": {
      "name": "Untitled27.ipynb",
      "provenance": [],
      "collapsed_sections": []
    },
    "kernelspec": {
      "name": "python3",
      "display_name": "Python 3"
    }
  },
  "cells": [
    {
      "cell_type": "markdown",
      "metadata": {
        "id": "JhibbRmLdz79",
        "colab_type": "text"
      },
      "source": [
        "# Mobile **dataset**"
      ]
    },
    {
      "cell_type": "code",
      "metadata": {
        "id": "ej43PTlpdnHq",
        "colab_type": "code",
        "colab": {}
      },
      "source": [
        "!git clone https://github.com/deepanrajm/machine_learning.git"
      ],
      "execution_count": 0,
      "outputs": []
    },
    {
      "cell_type": "code",
      "metadata": {
        "id": "teRjRdhLd9Ns",
        "colab_type": "code",
        "colab": {}
      },
      "source": [
        "import numpy as np\n",
        "import sklearn\n",
        "from sklearn.metrics import classification_report\n",
        "from sklearn.ensemble import RandomForestClassifier\n",
        "from sklearn.tree import DecisionTreeClassifier\n",
        "from sklearn.neighbors import KNeighborsClassifier\n",
        "from sklearn.svm import SVC\n",
        "from sklearn.linear_model import LogisticRegression\n",
        "\n",
        "\n",
        "if int((sklearn.__version__).split(\".\")[1]) < 18:\n",
        "\tfrom sklearn.cross_validation import train_test_split\n",
        "\n",
        "\n",
        "else:\n",
        "\tfrom sklearn.model_selection import train_test_split\n",
        "\n",
        "\n",
        "dataset = np.loadtxt(\"machine_learning/Machine_learning/3_Mobile_dataset/mobile_cleaned.csv\", delimiter=\",\")\n",
        "\n",
        "\n",
        "data = dataset[1:,0:38]\n",
        "labels = dataset[1:,39]\n",
        "\n",
        "\n",
        "(trainData, testData, trainLabels, testLabels) = train_test_split(np.array(data),\n",
        "\tnp.array(labels), test_size=0.25, random_state=42)\n",
        "\n",
        "#penality = l1,l2, elasticnet\n",
        "#solver = liblinear, sag, saga, lbfgs, newton-cg\n",
        "#max-iter = 100\n",
        "\n",
        "model = LogisticRegression(max_iter=15)#,solver = 'sag')\n",
        "\n",
        "#penalty='l1',solver=\"saga\",max_iter=100\n",
        "\n",
        "print(\"[INFO] training model...\")\n",
        "model.fit(trainData, trainLabels)\n",
        "\n",
        "\n",
        "print(\"[INFO] evaluating...\")\n",
        "predictions = model.predict(testData)\n",
        "print(classification_report(testLabels, predictions))"
      ],
      "execution_count": 0,
      "outputs": []
    }
  ]
}
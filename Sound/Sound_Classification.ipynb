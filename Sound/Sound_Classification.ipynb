{
  "nbformat": 4,
  "nbformat_minor": 0,
  "metadata": {
    "colab": {
      "name": "Untitled18.ipynb",
      "provenance": [],
      "collapsed_sections": [],
      "toc_visible": true
    },
    "kernelspec": {
      "name": "python3",
      "display_name": "Python 3"
    }
  },
  "cells": [
    {
      "cell_type": "markdown",
      "metadata": {
        "id": "a30EIrglF6s0",
        "colab_type": "text"
      },
      "source": [
        "# **Sound Classification**"
      ]
    },
    {
      "cell_type": "code",
      "metadata": {
        "id": "NJyFhnJIIMh4",
        "colab_type": "code",
        "colab": {
          "base_uri": "https://localhost:8080/",
          "height": 134
        },
        "outputId": "9c250327-5914-4f9c-f5e4-0e41b87d7eb2"
      },
      "source": [
        "!git clone https://github.com/deepanrajm/machine_learning.git"
      ],
      "execution_count": 1,
      "outputs": [
        {
          "output_type": "stream",
          "text": [
            "Cloning into 'machine_learning'...\n",
            "remote: Enumerating objects: 477, done.\u001b[K\n",
            "remote: Counting objects: 100% (477/477), done.\u001b[K\n",
            "remote: Compressing objects: 100% (463/463), done.\u001b[K\n",
            "remote: Total 477 (delta 16), reused 470 (delta 9), pack-reused 0\n",
            "Receiving objects: 100% (477/477), 31.14 MiB | 20.26 MiB/s, done.\n",
            "Resolving deltas: 100% (16/16), done.\n"
          ],
          "name": "stdout"
        }
      ]
    },
    {
      "cell_type": "code",
      "metadata": {
        "id": "CaWawpVlF2-2",
        "colab_type": "code",
        "colab": {}
      },
      "source": [
        "import os\n",
        "import librosa\n",
        "import numpy as np\n",
        "from sklearn import svm"
      ],
      "execution_count": 0,
      "outputs": []
    },
    {
      "cell_type": "code",
      "metadata": {
        "id": "P-qlrA-fH9cn",
        "colab_type": "code",
        "colab": {}
      },
      "source": [
        "def decodeFolder(category):\n",
        "\tprint(\"Starting decoding folder \"+category+\" ...\")\n",
        "\tlistOfFiles = os.listdir(category)\n",
        "\tarrays_sound = np.empty((0,193))\n",
        "\tfor file in listOfFiles:\n",
        "\t\tfilename = os.path.join(category,file)\n",
        "\t\tfeatures_sound = extract_feature(filename)\n",
        "\t\tprint(len(features_sound))\n",
        "\t\tarrays_sound = np.vstack((arrays_sound,features_sound))\n",
        "\treturn arrays_sound"
      ],
      "execution_count": 0,
      "outputs": []
    },
    {
      "cell_type": "code",
      "metadata": {
        "id": "L149een5IAZA",
        "colab_type": "code",
        "colab": {}
      },
      "source": [
        "def extract_feature(file_name):\n",
        "\tprint(\"Extracting \"+file_name+\" ...\")\n",
        "\tX, sample_rate = librosa.load(file_name)\n",
        "\tstft = np.abs(librosa.stft(X))\n",
        "\tmfccs = np.mean(librosa.feature.mfcc(y=X, sr=sample_rate, n_mfcc=40).T,axis=0)\n",
        "\tchroma = np.mean(librosa.feature.chroma_stft(S=stft, sr=sample_rate).T,axis=0)\n",
        "\tmel = np.mean(librosa.feature.melspectrogram(X, sr=sample_rate).T,axis=0)\n",
        "\tcontrast = np.mean(librosa.feature.spectral_contrast(S=stft, sr=sample_rate).T,axis=0)\n",
        "\ttonnetz = np.mean(librosa.feature.tonnetz(y=librosa.effects.harmonic(X),sr=sample_rate).T,axis=0)\n",
        "\treturn np.hstack((mfccs,chroma,mel,contrast,tonnetz))"
      ],
      "execution_count": 0,
      "outputs": []
    },
    {
      "cell_type": "code",
      "metadata": {
        "id": "AKhExdwgIEqp",
        "colab_type": "code",
        "colab": {}
      },
      "source": [
        "normal_sounds = decodeFolder(\"machine_learning/Sound/normal\")\n",
        "normal_labels = [0 for items in normal_sounds]"
      ],
      "execution_count": 0,
      "outputs": []
    },
    {
      "cell_type": "code",
      "metadata": {
        "id": "d7Fq5QENJb3h",
        "colab_type": "code",
        "colab": {}
      },
      "source": [
        "murmur_sounds = decodeFolder(\"machine_learning/Sound/murmur\")\n",
        "murmur_labels = [1 for items in murmur_sounds]"
      ],
      "execution_count": 0,
      "outputs": []
    },
    {
      "cell_type": "code",
      "metadata": {
        "id": "JggbJxdkJdXI",
        "colab_type": "code",
        "colab": {}
      },
      "source": [
        "train_sounds = np.concatenate((normal_sounds, murmur_sounds))\n",
        "train_labels = np.concatenate((normal_labels, murmur_labels))"
      ],
      "execution_count": 0,
      "outputs": []
    },
    {
      "cell_type": "code",
      "metadata": {
        "id": "Q6LDMEmiIGeg",
        "colab_type": "code",
        "colab": {}
      },
      "source": [
        "test_sound = decodeFolder(\"machine_learning/Sound/test\")"
      ],
      "execution_count": 0,
      "outputs": []
    },
    {
      "cell_type": "code",
      "metadata": {
        "id": "VcUetz-oIIoz",
        "colab_type": "code",
        "colab": {}
      },
      "source": [
        "clf =svm.SVC()\n",
        "clf.fit(train_sounds,train_labels)\n",
        "print(\"training done\")\n",
        "print(clf.predict(test_sound))"
      ],
      "execution_count": 0,
      "outputs": []
    }
  ]
}